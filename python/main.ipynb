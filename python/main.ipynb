{
 "cells": [
  {
   "cell_type": "code",
   "execution_count": 4,
   "metadata": {},
   "outputs": [
    {
     "data": {
      "text/plain": [
       "'/Users/chris/Documents/Cloning/binance-public-data/python'"
      ]
     },
     "execution_count": 4,
     "metadata": {},
     "output_type": "execute_result"
    }
   ],
   "source": [
    "pwd()"
   ]
  },
  {
   "cell_type": "code",
   "execution_count": 2,
   "metadata": {},
   "outputs": [],
   "source": [
    "import pandas as pd"
   ]
  },
  {
   "cell_type": "code",
   "execution_count": 11,
   "metadata": {},
   "outputs": [
    {
     "name": "stdout",
     "output_type": "stream",
     "text": [
      "           trade Id     price       qty       quoteQty           time  \\\n",
      "2646788  3940684344  68500.00  13.96290  956458.650000  1729264889945   \n",
      "2669605  3940707161  68580.00  12.68102  869664.351600  1729265364508   \n",
      "2667201  3940704757  68550.00  12.06564  827099.622000  1729265358070   \n",
      "2669606  3940707162  68580.00  10.24000  702259.200000  1729265364509   \n",
      "276206   3938313762  67755.00  10.32701  699706.562550  1729215831339   \n",
      "...             ...       ...       ...            ...            ...   \n",
      "112082   3938149638  67194.01   0.00001       0.671940  1729213276275   \n",
      "100762   3938138318  67193.99   0.00001       0.671940  1729212763443   \n",
      "100753   3938138309  67193.99   0.00001       0.671940  1729212763443   \n",
      "100773   3938138329  67193.99   0.00001       0.671940  1729212763456   \n",
      "100697   3938138253  67193.28   0.00001       0.671933  1729212763418   \n",
      "\n",
      "         isBuyerMaker  isBestMatch  \n",
      "2646788         False         True  \n",
      "2669605         False         True  \n",
      "2667201         False         True  \n",
      "2669606         False         True  \n",
      "276206           True         True  \n",
      "...               ...          ...  \n",
      "112082           True         True  \n",
      "100762          False         True  \n",
      "100753          False         True  \n",
      "100773          False         True  \n",
      "100697          False         True  \n",
      "\n",
      "[4010969 rows x 7 columns]\n"
     ]
    }
   ],
   "source": [
    "columns = ['trade Id','price','qty','quoteQty','time','isBuyerMaker','isBestMatch']\n",
    "file =pd.read_csv(\"/Users/chris/Documents/Cloning/binance-public-data/python/data/spot/daily/trades/BTCUSDT/BTCUSDT-trades-2024-10-18.csv\",names=columns)\n",
    "loca = file.sort_values(by='quoteQty',ascending=False)\n",
    "row = loca\n",
    "print(row)\n"
   ]
  },
  {
   "cell_type": "code",
   "execution_count": null,
   "metadata": {},
   "outputs": [],
   "source": []
  }
 ],
 "metadata": {
  "kernelspec": {
   "display_name": "base",
   "language": "python",
   "name": "python3"
  },
  "language_info": {
   "codemirror_mode": {
    "name": "ipython",
    "version": 3
   },
   "file_extension": ".py",
   "mimetype": "text/x-python",
   "name": "python",
   "nbconvert_exporter": "python",
   "pygments_lexer": "ipython3",
   "version": "3.12.4"
  }
 },
 "nbformat": 4,
 "nbformat_minor": 2
}
