{
 "cells": [
  {
   "cell_type": "code",
   "execution_count": 4,
   "metadata": {},
   "outputs": [
    {
     "data": {
      "text/plain": [
       "'/Users/chris/Documents/Cloning/binance-public-data/python'"
      ]
     },
     "execution_count": 4,
     "metadata": {},
     "output_type": "execute_result"
    }
   ],
   "source": [
    "pwd()"
   ]
  },
  {
   "cell_type": "code",
   "execution_count": 2,
   "metadata": {},
   "outputs": [],
   "source": [
    "import pandas as pd"
   ]
  },
  {
   "cell_type": "code",
   "execution_count": 9,
   "metadata": {},
   "outputs": [
    {
     "name": "stdout",
     "output_type": "stream",
     "text": [
      "           trade Id     price      qty    quoteQty           time  \\\n",
      "0        3938037556  67421.78  0.00155  104.503759  1729209600334   \n",
      "1        3938037557  67421.79  0.00014    9.439051  1729209600503   \n",
      "2        3938037558  67421.78  0.00010    6.742178  1729209600951   \n",
      "3        3938037559  67421.78  0.00010    6.742178  1729209600951   \n",
      "4        3938037560  67421.78  0.00050   33.710890  1729209600951   \n",
      "...             ...       ...      ...         ...            ...   \n",
      "4010964  3942048520  68428.00  0.00400  273.712000  1729295998825   \n",
      "4010965  3942048521  68428.00  0.00100   68.428000  1729295998825   \n",
      "4010966  3942048522  68428.00  0.00040   27.371200  1729295998825   \n",
      "4010967  3942048523  68427.99  0.00740  506.367126  1729295998954   \n",
      "4010968  3942048524  68428.00  0.00460  314.768800  1729295999427   \n",
      "\n",
      "         isBuyerMaker  isBestMatch  \n",
      "0                True         True  \n",
      "1               False         True  \n",
      "2                True         True  \n",
      "3                True         True  \n",
      "4                True         True  \n",
      "...               ...          ...  \n",
      "4010964         False         True  \n",
      "4010965         False         True  \n",
      "4010966         False         True  \n",
      "4010967          True         True  \n",
      "4010968         False         True  \n",
      "\n",
      "[4010969 rows x 7 columns]\n"
     ]
    }
   ],
   "source": [
    "columns = ['trade Id','price','qty','quoteQty','time','isBuyerMaker','isBestMatch']\n",
    "file =pd.read_csv(\"/Users/chris/Documents/Cloning/binance-public-data/python/data/spot/daily/trades/BTCUSDT/BTCUSDT-trades-2024-10-18.csv\",names=columns)\n",
    "print(file)\n"
   ]
  },
  {
   "cell_type": "code",
   "execution_count": null,
   "metadata": {},
   "outputs": [],
   "source": []
  }
 ],
 "metadata": {
  "kernelspec": {
   "display_name": "base",
   "language": "python",
   "name": "python3"
  },
  "language_info": {
   "codemirror_mode": {
    "name": "ipython",
    "version": 3
   },
   "file_extension": ".py",
   "mimetype": "text/x-python",
   "name": "python",
   "nbconvert_exporter": "python",
   "pygments_lexer": "ipython3",
   "version": "3.12.4"
  }
 },
 "nbformat": 4,
 "nbformat_minor": 2
}
